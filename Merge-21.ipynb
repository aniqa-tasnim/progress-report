{
 "cells": [
  {
   "cell_type": "code",
   "execution_count": 1,
   "id": "efa34c9c",
   "metadata": {},
   "outputs": [],
   "source": [
    "##reading masterfile\n",
    "input_file = \"mdrfoiThru2023.txt\"\n",
    "output_file = \"master'21.txt\"\n",
    "\n",
    "with open(input_file, 'r', encoding='latin1') as infile, open(output_file, 'w', encoding='latin1') as outfile:\n",
    "    header = infile.readline()\n",
    "    outfile.write(header)  \n",
    "    for line in infile:\n",
    "        columns = line.split('|')\n",
    "        if len(columns) > 7 and '2021' in columns[7]:\n",
    "            outfile.write(line)"
   ]
  },
  {
   "cell_type": "code",
   "execution_count": 2,
   "id": "0194be47",
   "metadata": {},
   "outputs": [
    {
     "name": "stderr",
     "output_type": "stream",
     "text": [
      "/var/folders/qx/nln0xz3d7rd3s1sf_5hzrq0m0000gn/T/ipykernel_24709/356210618.py:2: DtypeWarning: Columns (0,1,2,3,22) have mixed types. Specify dtype option on import or set low_memory=False.\n",
      "  df = pd.read_csv(\"DEVICE2021.txt\", sep='|', encoding='latin1', quoting=3, on_bad_lines='skip')\n"
     ]
    }
   ],
   "source": [
    "import pandas as pd\n",
    "df = pd.read_csv(\"DEVICE2021.txt\", sep='|', encoding='latin1', quoting=3, on_bad_lines='skip')\n",
    "        \n",
    "        # Filter rows where 'GENERIC_NAME' contains the keyword (case insensitive)\n",
    "filtered_data = df[df['GENERIC_NAME'].str.contains(\"STENT\", case=False, na=False)]\n",
    "        \n",
    "        # Write the filtered data to the output file\n",
    "filtered_data.to_csv(\"STENT-21.txt\", sep='|', index=False, encoding='latin1')"
   ]
  },
  {
   "cell_type": "code",
   "execution_count": 3,
   "id": "76956572",
   "metadata": {},
   "outputs": [],
   "source": [
    "import pandas as pd\n",
    "\n",
    "# File paths for filtered device dataset and combined text dataset\n",
    "file_device = \"STENT-21.txt\"\n",
    "file_text_combined = \"foitext2021.txt\"\n",
    "\n",
    "# Read both datasets into pandas DataFrames\n",
    "df_device = pd.read_csv(file_device, sep='|', encoding='latin1', quoting=3, on_bad_lines='skip')\n",
    "df_text_combined = pd.read_csv(file_text_combined, sep='|', encoding='latin1', quoting=3, on_bad_lines='skip')\n",
    "\n",
    "# Merge DataFrames based on MDR_REPORT_KEY\n",
    "df_merged = pd.merge(df_device, df_text_combined, on='MDR_REPORT_KEY', how='inner')\n",
    "\n",
    "# Output file path for the merged dataset\n",
    "output_file_merged = \"merged_data_device_text-21.txt\"\n",
    "\n",
    "# Save the merged DataFrame to a new text file\n",
    "df_merged.to_csv(output_file_merged, sep='|', index=False, encoding='latin1')"
   ]
  },
  {
   "cell_type": "code",
   "execution_count": 4,
   "id": "79f0e4bb",
   "metadata": {},
   "outputs": [
    {
     "name": "stderr",
     "output_type": "stream",
     "text": [
      "/var/folders/qx/nln0xz3d7rd3s1sf_5hzrq0m0000gn/T/ipykernel_24709/1850203752.py:8: DtypeWarning: Columns (29) have mixed types. Specify dtype option on import or set low_memory=False.\n",
      "  df_merged = pd.read_csv(file_merged, sep='|', encoding='latin1', quoting=3, on_bad_lines='skip')\n",
      "/var/folders/qx/nln0xz3d7rd3s1sf_5hzrq0m0000gn/T/ipykernel_24709/1850203752.py:9: DtypeWarning: Columns (13,20,29,30,35,37,38,39,79) have mixed types. Specify dtype option on import or set low_memory=False.\n",
      "  df_filtered = pd.read_csv(file_filtered, sep='|', encoding='latin1', quoting=3, on_bad_lines='skip')\n"
     ]
    }
   ],
   "source": [
    "import pandas as pd\n",
    "\n",
    "# File paths for previously merged dataset and filtered_data_22-23.txt\n",
    "file_merged = \"merged_data_device_text-21.txt\"\n",
    "file_filtered = \"master'21.txt\"\n",
    "\n",
    "# Read both datasets into pandas DataFrames, skipping lines with errors\n",
    "df_merged = pd.read_csv(file_merged, sep='|', encoding='latin1', quoting=3, on_bad_lines='skip')\n",
    "df_filtered = pd.read_csv(file_filtered, sep='|', encoding='latin1', quoting=3, on_bad_lines='skip')\n",
    "\n",
    "# Merge DataFrames based on MDR_REPORT_KEY\n",
    "df_final = pd.merge(df_filtered, df_merged, on='MDR_REPORT_KEY', how='inner')\n",
    "\n",
    "# Output file path for the final merged dataset\n",
    "output_file_final = \"final_merged_21.csv\"\n",
    "\n",
    "# Save the final merged DataFrame to a new CSV file\n",
    "df_final.to_csv(output_file_final, index=False, encoding='latin1')"
   ]
  }
 ],
 "metadata": {
  "kernelspec": {
   "display_name": "Python 3 (ipykernel)",
   "language": "python",
   "name": "python3"
  },
  "language_info": {
   "codemirror_mode": {
    "name": "ipython",
    "version": 3
   },
   "file_extension": ".py",
   "mimetype": "text/x-python",
   "name": "python",
   "nbconvert_exporter": "python",
   "pygments_lexer": "ipython3",
   "version": "3.9.13"
  }
 },
 "nbformat": 4,
 "nbformat_minor": 5
}
